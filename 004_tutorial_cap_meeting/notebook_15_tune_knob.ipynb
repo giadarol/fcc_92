{
 "cells": [
  {
   "cell_type": "code",
   "execution_count": 8,
   "id": "3fdec9a2-d75b-4ecb-877a-9cb9a41c707f",
   "metadata": {},
   "outputs": [],
   "source": [
    "%matplotlib widget"
   ]
  },
  {
   "cell_type": "code",
   "execution_count": 9,
   "id": "2c4ffc66-90cc-407f-89de-6d2299d12427",
   "metadata": {},
   "outputs": [],
   "source": [
    "import numpy as np\n",
    "import xtrack as xt\n",
    "import matplotlib.pyplot as plt"
   ]
  },
  {
   "cell_type": "markdown",
   "id": "d8104cb4-ff15-46ca-be46-9458fbb08d3a",
   "metadata": {},
   "source": [
    "### Load lattice"
   ]
  },
  {
   "cell_type": "code",
   "execution_count": 10,
   "id": "10bdef03-84dd-4926-a8e3-73d63ff951a1",
   "metadata": {},
   "outputs": [],
   "source": [
    "env = xt.Environment()\n",
    "env.call('../fccee_z_lattice.py')"
   ]
  },
  {
   "cell_type": "markdown",
   "id": "bb512343-8a74-4c0c-833e-b19c98f1a32d",
   "metadata": {},
   "source": [
    "### Load all matched quadrupoles and sextupoles strengths "
   ]
  },
  {
   "cell_type": "code",
   "execution_count": 11,
   "id": "d151ec74-c5cd-4774-a79f-058cefad5c8d",
   "metadata": {},
   "outputs": [],
   "source": [
    "env.vars.load_json('strengths_quads_00_arc_cell.json')\n",
    "env.vars.load_json('strengths_quads_01_ffccsyl.json')\n",
    "env.vars.load_json('strengths_quads_02_ffccsxl.json')\n",
    "env.vars.load_json('strengths_quads_03_ffccsyr.json')\n",
    "env.vars.load_json('strengths_quads_04_ffccsxr.json')\n",
    "env.vars.load_json('strengths_quads_05_ffds_lr.json')\n",
    "env.vars.load_json('strengths_quads_06_straight.json')\n",
    "\n",
    "env.vars.load_json('strengths_sext_00_arc_cell.json')\n",
    "env.vars.load_json('strengths_sext_01_straight.json')\n",
    "env.vars.load_json('strengths_sext_02_final_focus.json')"
   ]
  },
  {
   "cell_type": "code",
   "execution_count": 12,
   "id": "9b8f04b3-81e8-4516-8751-10d90523efe4",
   "metadata": {},
   "outputs": [],
   "source": [
    "line = env['fccee_p_ring']"
   ]
  },
  {
   "cell_type": "code",
   "execution_count": 15,
   "id": "2908e1e7-e4a9-4cda-b48d-379e87175e95",
   "metadata": {},
   "outputs": [
    {
     "name": "stdout",
     "output_type": "stream",
     "text": [
      "qx=198.200 qy=176.300\n"
     ]
    }
   ],
   "source": [
    "tw=line.twiss4d()\n",
    "print(f'qx={tw.qx:.3f} qy={tw.qy:.3f}')"
   ]
  },
  {
   "cell_type": "markdown",
   "id": "84429b72-4f1c-4fd0-b74e-fe9496f7b2f2",
   "metadata": {},
   "source": [
    "### Match vertical tune knob"
   ]
  },
  {
   "cell_type": "code",
   "execution_count": 16,
   "id": "c89ef923-68b1-4e58-b1e0-5322888c2e79",
   "metadata": {},
   "outputs": [],
   "source": [
    "tw0 = line.twiss4d()\n",
    "opt = line.match_knob(\n",
    "    run=False,\n",
    "    method='4d',\n",
    "    knob_name='dqy',\n",
    "    knob_value_start=0,\n",
    "    knob_value_end=5e-3,\n",
    "    vary=xt.VaryList(['kqd1', 'kqf2', 'kqd3', 'kqf4', 'kqd5', 'kqf6'], step=1e-9),\n",
    "    targets=xt.TargetSet(qx=tw0.qx, qy=tw0.qy+5e-3)\n",
    ") "
   ]
  },
  {
   "cell_type": "code",
   "execution_count": 18,
   "id": "c5bd8378-abdd-4a4a-bab7-6aaa20d8b6e9",
   "metadata": {},
   "outputs": [
    {
     "name": "stdout",
     "output_type": "stream",
     "text": [
      "                                             \n",
      "Optimize - start penalty: 0.05                              \n",
      "Matching: model call n. 17 penalty = 1.5151e-10              \n",
      "Optimize - end penalty:  1.51509e-10                            \n",
      "Generated knob:  dqx\n"
     ]
    }
   ],
   "source": [
    "opt = line.match_knob(\n",
    "    run=False,\n",
    "    method='4d',\n",
    "    knob_name='dqx',\n",
    "    knob_value_start=0,\n",
    "    knob_value_end=5e-3,\n",
    "    vary=xt.VaryList(['kqd1', 'kqf2', 'kqd3', 'kqf4', 'kqd5', 'kqf6'], step=1e-9),\n",
    "    targets=xt.TargetSet(qx=tw0.qx+5e-3, qy=tw0.qy)\n",
    ") \n",
    "opt.solve()\n",
    "opt.generate_knob()"
   ]
  },
  {
   "cell_type": "code",
   "execution_count": 19,
   "id": "747502fb-cd65-4dc9-9cf5-181883bdc2db",
   "metadata": {},
   "outputs": [
    {
     "name": "stdout",
     "output_type": "stream",
     "text": [
      "qx=198.200 qy=176.300\n"
     ]
    }
   ],
   "source": [
    "tw=line.twiss4d()\n",
    "print(f'qx={tw.qx:.3f} qy={tw.qy:.3f}')"
   ]
  },
  {
   "cell_type": "code",
   "execution_count": 20,
   "id": "1a45aded-e9ab-4f3d-a662-fb76f4e6d0fd",
   "metadata": {},
   "outputs": [],
   "source": [
    "line['dqx'] = 0.03\n",
    "line['dqx'] = 0.05"
   ]
  },
  {
   "cell_type": "code",
   "execution_count": 21,
   "id": "bfe16432-a726-4a20-b84e-d37dcc8c157e",
   "metadata": {},
   "outputs": [
    {
     "name": "stdout",
     "output_type": "stream",
     "text": [
      "qx=198.250 qy=176.300\n"
     ]
    }
   ],
   "source": [
    "tw=line.twiss4d()\n",
    "print(f'qx={tw.qx:.3f} qy={tw.qy:.3f}')"
   ]
  },
  {
   "cell_type": "code",
   "execution_count": 28,
   "id": "82d468ab-014e-4699-8ba0-207c2edde9ec",
   "metadata": {},
   "outputs": [],
   "source": [
    "### Momentum acceptance with changed tunes"
   ]
  },
  {
   "cell_type": "code",
   "execution_count": null,
   "id": "25f5dc57-32cb-4dd4-b699-3f9be372ce8a",
   "metadata": {},
   "outputs": [
    {
     "name": "stdout",
     "output_type": "stream",
     "text": [
      "Compiling ContextCpu kernels...\n",
      "Done compiling ContextCpu kernels.\n"
     ]
    },
    {
     "data": {
      "application/vnd.jupyter.widget-view+json": {
       "model_id": "02c7baf71e8145eb90b74acf7a7ee8ce",
       "version_major": 2,
       "version_minor": 0
      },
      "text/plain": [
       "Tracking:   0%|          | 0/50 [00:00<?, ?it/s]"
      ]
     },
     "metadata": {},
     "output_type": "display_data"
    }
   ],
   "source": [
    "# RF ON!\n",
    "line['rf_on'] = 1\n",
    "line['rf_lag'] = 0.5\n",
    "import sys\n",
    "from momentum_acceptance import ActionMomentumAcceptance # reusing code from K. Skoufaris\n",
    "nemitt_x = 6.33e-5\n",
    "nemitt_y = 1.69e-7\n",
    "energy_spread=3.9e-4\n",
    "nn_y_r=15\n",
    "max_y_r=10\n",
    "global_xy_limit = 1e-2\n",
    "num_turns = 50\n",
    "act = ActionMomentumAcceptance(line,\n",
    "            nemitt_x, nemitt_y, nn_y_r, max_y_r, energy_spread,\n",
    "            global_xy_limit=global_xy_limit, num_turns=num_turns)\n",
    "\n",
    "plt.figure()\n",
    "_ = act.mom_acceptance(plot=True, with_progress=1)\n",
    "plt.subplots_adjust(hspace=0.4)"
   ]
  },
  {
   "cell_type": "code",
   "execution_count": null,
   "id": "e36fd5dd-3eba-4c4b-865f-95e68fa00761",
   "metadata": {},
   "outputs": [],
   "source": []
  }
 ],
 "metadata": {
  "kernelspec": {
   "display_name": "Python 3 (ipykernel)",
   "language": "python",
   "name": "python3"
  },
  "language_info": {
   "codemirror_mode": {
    "name": "ipython",
    "version": 3
   },
   "file_extension": ".py",
   "mimetype": "text/x-python",
   "name": "python",
   "nbconvert_exporter": "python",
   "pygments_lexer": "ipython3",
   "version": "3.11.11"
  }
 },
 "nbformat": 4,
 "nbformat_minor": 5
}

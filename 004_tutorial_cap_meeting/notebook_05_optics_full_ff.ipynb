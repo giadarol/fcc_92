{
 "cells": [
  {
   "cell_type": "code",
   "execution_count": 1,
   "id": "44e84319-a841-4c18-90bf-3e4c94fe7e20",
   "metadata": {},
   "outputs": [],
   "source": [
    "%matplotlib widget"
   ]
  },
  {
   "cell_type": "code",
   "execution_count": 2,
   "id": "02ee741a-c7b6-4fe6-bce9-ee0c886ac4e6",
   "metadata": {},
   "outputs": [],
   "source": [
    "import numpy as np\n",
    "import xtrack as xt\n",
    "import matplotlib.pyplot as plt"
   ]
  },
  {
   "cell_type": "code",
   "execution_count": 3,
   "id": "b1e0e729-1512-492f-96dc-a86dc0ccb8c1",
   "metadata": {},
   "outputs": [],
   "source": [
    "env = xt.Environment()\n",
    "env.call('../fccee_z_lattice.py')"
   ]
  },
  {
   "cell_type": "code",
   "execution_count": 4,
   "id": "999d929c-d64a-47c9-947e-0167efa1b441",
   "metadata": {},
   "outputs": [],
   "source": [
    "env.vars.load_json('strengths_quads_01_ffccsyl.json')\n",
    "env.vars.load_json('strengths_quads_02_ffccsxl.json')\n",
    "env.vars.load_json('strengths_quads_03_ffccsyr.json')\n",
    "env.vars.load_json('strengths_quads_04_ffccsxr.json')"
   ]
  },
  {
   "cell_type": "markdown",
   "id": "021ffe62-d203-4df7-bed3-df7b15f0de8c",
   "metadata": {},
   "source": [
    "### Assemble full final focus"
   ]
  },
  {
   "cell_type": "code",
   "execution_count": 8,
   "id": "105b7766-9965-499e-aee9-7475967b2931",
   "metadata": {},
   "outputs": [],
   "source": [
    "line = env['ccs_xl'] + env['ccs_yl'] - env['ccs_yr'] - env['ccs_xr']"
   ]
  },
  {
   "cell_type": "markdown",
   "id": "7fd921ba-6156-4899-897e-9777ebae0300",
   "metadata": {},
   "source": [
    "### Twiss of the full final focus"
   ]
  },
  {
   "cell_type": "code",
   "execution_count": 9,
   "id": "c2996cab-9da8-433e-814b-da056c3692a5",
   "metadata": {},
   "outputs": [],
   "source": [
    "tw=line.twiss(betx=env['bxip'], bety=env['byip'],\n",
    "              init_at='ip::0', zero_at='ip::0')"
   ]
  },
  {
   "cell_type": "markdown",
   "id": "ba18df7b-76b3-470c-81fd-5523ab48c9cf",
   "metadata": {},
   "source": [
    "### Plot"
   ]
  },
  {
   "cell_type": "code",
   "execution_count": 10,
   "id": "64abf6ca-c553-4152-811b-5a669123d5ec",
   "metadata": {},
   "outputs": [
    {
     "ename": "SyntaxError",
     "evalue": "invalid syntax (1514581598.py, line 3)",
     "output_type": "error",
     "traceback": [
      "\u001b[0;36m  Cell \u001b[0;32mIn[10], line 3\u001b[0;36m\u001b[0m\n\u001b[0;31m    tw.plot(ax=ax)a\u001b[0m\n\u001b[0m                  ^\u001b[0m\n\u001b[0;31mSyntaxError\u001b[0m\u001b[0;31m:\u001b[0m invalid syntax\n"
     ]
    }
   ],
   "source": [
    "fig = plt.figure(figsize=(10, 5))\n",
    "ax = fig.add_subplot(111)\n",
    "tw.plot(ax=ax)a"
   ]
  },
  {
   "cell_type": "code",
   "execution_count": null,
   "id": "3084ae7e-f166-4d03-8b9f-db11e16126fa",
   "metadata": {},
   "outputs": [],
   "source": []
  }
 ],
 "metadata": {
  "kernelspec": {
   "display_name": "Python 3 (ipykernel)",
   "language": "python",
   "name": "python3"
  },
  "language_info": {
   "codemirror_mode": {
    "name": "ipython",
    "version": 3
   },
   "file_extension": ".py",
   "mimetype": "text/x-python",
   "name": "python",
   "nbconvert_exporter": "python",
   "pygments_lexer": "ipython3",
   "version": "3.11.11"
  }
 },
 "nbformat": 4,
 "nbformat_minor": 5
}
